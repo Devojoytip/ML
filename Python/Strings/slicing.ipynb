{
 "cells": [
  {
   "cell_type": "code",
   "execution_count": 1,
   "metadata": {},
   "outputs": [
    {
     "name": "stdout",
     "output_type": "stream",
     "text": [
      "14\n",
      "bcdefgh\n",
      "abcdefgh\n",
      "cdefghijklmn\n"
     ]
    }
   ],
   "source": [
    "a = \"abcdefghijklmn\"\n",
    "print(len(a))\n",
    "\n",
    "# s(included) to e(not included)\n",
    "\n",
    "print(a[1:8])\n",
    "\n",
    "print(a[:8])  # s=0\n",
    "\n",
    "print(a[2:])  # e=end of string"
   ]
  }
 ],
 "metadata": {
  "kernelspec": {
   "display_name": "base",
   "language": "python",
   "name": "python3"
  },
  "language_info": {
   "codemirror_mode": {
    "name": "ipython",
    "version": 3
   },
   "file_extension": ".py",
   "mimetype": "text/x-python",
   "name": "python",
   "nbconvert_exporter": "python",
   "pygments_lexer": "ipython3",
   "version": "3.9.12"
  }
 },
 "nbformat": 4,
 "nbformat_minor": 2
}
