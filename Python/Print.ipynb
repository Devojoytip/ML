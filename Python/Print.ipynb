{
 "cells": [
  {
   "cell_type": "code",
   "execution_count": 2,
   "metadata": {},
   "outputs": [
    {
     "name": "stdout",
     "output_type": "stream",
     "text": [
      "Hello World\n",
      "1 2 3.55\n",
      "ab\n",
      "Hello World\n",
      "apple-banana-cherry\n"
     ]
    }
   ],
   "source": [
    "print(\"Hello World\")\n",
    "\n",
    "print(\"1\", 2, 3.55)\n",
    "\n",
    "print(\"a\"+\"b\")\n",
    "\n",
    "# sep='separator'\tOptional. Specify how to separate the objects, if there is more than one. \n",
    "\n",
    "print(\"Hello World\", sep=\"-\")\n",
    "print(\"apple\", \"banana\", \"cherry\", sep=\"-\")"
   ]
  },
  {
   "cell_type": "code",
   "execution_count": 11,
   "metadata": {},
   "outputs": [
    {
     "name": "stdout",
     "output_type": "stream",
     "text": [
      "Hello World\n",
      "New Line\n",
      "\"\n",
      "\\\n",
      "\"Hi\"\n",
      "'Hi'\n"
     ]
    }
   ],
   "source": [
    "# Escape Sequences \n",
    "print(\"Hello World\\nNew Line\")\n",
    "\n",
    "# \\ followed by the char you want to insert\n",
    "print(\"\\\"\")\n",
    "print(\"\\\\\")\n",
    "print(\"\\\"Hi\\\"\")\n",
    "print(\"\\'Hi\\'\")"
   ]
  }
 ],
 "metadata": {
  "kernelspec": {
   "display_name": "base",
   "language": "python",
   "name": "python3"
  },
  "language_info": {
   "codemirror_mode": {
    "name": "ipython",
    "version": 3
   },
   "file_extension": ".py",
   "mimetype": "text/x-python",
   "name": "python",
   "nbconvert_exporter": "python",
   "pygments_lexer": "ipython3",
   "version": "3.9.12"
  }
 },
 "nbformat": 4,
 "nbformat_minor": 2
}
