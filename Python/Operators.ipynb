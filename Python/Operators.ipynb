{
 "cells": [
  {
   "cell_type": "code",
   "execution_count": 1,
   "metadata": {},
   "outputs": [
    {
     "name": "stdout",
     "output_type": "stream",
     "text": [
      "Addition: 13\n",
      "Subtraction: 7\n",
      "Multiplication: 30\n",
      "Division: 3.3333333333333335\n",
      "Modulus: 1\n",
      "Exponentiation: 1000\n",
      "Floor Division: 3\n"
     ]
    }
   ],
   "source": [
    "# Arithmetic operators\n",
    "x = 10\n",
    "y = 3\n",
    "\n",
    "# Addition\n",
    "result = x + y\n",
    "print(\"Addition:\", result)\n",
    "\n",
    "# Subtraction\n",
    "result = x - y\n",
    "print(\"Subtraction:\", result)\n",
    "\n",
    "# Multiplication\n",
    "result = x * y\n",
    "print(\"Multiplication:\", result)\n",
    "\n",
    "# Division\n",
    "result = x / y\n",
    "print(\"Division:\", result)\n",
    "\n",
    "# Modulus\n",
    "result = x % y\n",
    "print(\"Modulus:\", result)\n",
    "\n",
    "# Exponentiation\n",
    "result = x ** y\n",
    "print(\"Exponentiation:\", result)\n",
    "\n",
    "# Floor Division\n",
    "result = x // y\n",
    "print(\"Floor Division:\", result)\n"
   ]
  },
  {
   "cell_type": "code",
   "execution_count": null,
   "metadata": {},
   "outputs": [],
   "source": [
    "# Logical operators\n",
    "a = True\n",
    "b = False\n",
    "\n",
    "# AND\n",
    "result = a and b\n",
    "print(\"AND:\", result)\n",
    "\n",
    "# OR\n",
    "result = a or b\n",
    "print(\"OR:\", result)\n",
    "\n",
    "# NOT\n",
    "result = not a\n",
    "print(\"NOT:\", result)"
   ]
  }
 ],
 "metadata": {
  "kernelspec": {
   "display_name": "base",
   "language": "python",
   "name": "python3"
  },
  "language_info": {
   "codemirror_mode": {
    "name": "ipython",
    "version": 3
   },
   "file_extension": ".py",
   "mimetype": "text/x-python",
   "name": "python",
   "nbconvert_exporter": "python",
   "pygments_lexer": "ipython3",
   "version": "3.9.12"
  }
 },
 "nbformat": 4,
 "nbformat_minor": 2
}
