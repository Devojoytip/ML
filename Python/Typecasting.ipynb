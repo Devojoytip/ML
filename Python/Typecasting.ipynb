{
 "cells": [
  {
   "cell_type": "markdown",
   "metadata": {},
   "source": [
    "Implicit typecasting in Python refers to the automatic conversion of one data type to another by the interpreter. This can happen when performing operations or assignments involving different data types."
   ]
  },
  {
   "cell_type": "code",
   "execution_count": 5,
   "metadata": {},
   "outputs": [
    {
     "name": "stdout",
     "output_type": "stream",
     "text": [
      "13.14\n",
      "11\n",
      "(15+2j)\n"
     ]
    }
   ],
   "source": [
    "x = 10\n",
    "y = 3.14\n",
    "z = x + y\n",
    "print(z)  # Output: 13.14\n",
    "\n",
    "x = 10\n",
    "y = \"20\"\n",
    "# z = x + y\n",
    "# print(z)  # Output: TypeError: unsupported operand type(s) for +: 'int' and 'str'\n",
    "\n",
    "x = 10\n",
    "y = True\n",
    "z = x + y\n",
    "print(z)  # Output: 11\n",
    "\n",
    "x = 5\n",
    "y = 10 + 2j\n",
    "z = x + y\n",
    "print(z)  # Output: 15+2j"
   ]
  },
  {
   "cell_type": "code",
   "execution_count": 13,
   "metadata": {},
   "outputs": [
    {
     "name": "stdout",
     "output_type": "stream",
     "text": [
      "5.0\n",
      "10\n",
      "0\n",
      "15.0\n",
      "182.5\n",
      "<class 'str'>\n",
      "20.5\n",
      "<class 'float'>\n"
     ]
    }
   ],
   "source": [
    "# Convert x from int to float\n",
    "x = 5\n",
    "x = float(x)\n",
    "print(x)  # Output: 5.0\n",
    "\n",
    "# Convert y from complex to int\n",
    "y = complex(10, 2)\n",
    "\n",
    "y = int(y.real)\n",
    "print(y)  # Output: 10\n",
    "print(y.imag)  # Output: 10\n",
    "\n",
    "# Convert z from complex to float\n",
    "z = complex(15, 2)\n",
    "z = float(z.real)\n",
    "print(z)  # Output: 15.0\n",
    "\n",
    "x = \"18\"\n",
    "y = \"2.5\"\n",
    "z = x + y\n",
    "print(z) # z = 182.5\n",
    "print(type(z)) # str\n",
    "\n",
    "z = float(x) + float(y)\n",
    "print(z) # z = 20.5\n",
    "print(type(z)) # float"
   ]
  }
 ],
 "metadata": {
  "kernelspec": {
   "display_name": "base",
   "language": "python",
   "name": "python3"
  },
  "language_info": {
   "codemirror_mode": {
    "name": "ipython",
    "version": 3
   },
   "file_extension": ".py",
   "mimetype": "text/x-python",
   "name": "python",
   "nbconvert_exporter": "python",
   "pygments_lexer": "ipython3",
   "version": "3.9.12"
  }
 },
 "nbformat": 4,
 "nbformat_minor": 2
}
