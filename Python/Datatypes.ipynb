{
 "cells": [
  {
   "cell_type": "code",
   "execution_count": 1,
   "metadata": {},
   "outputs": [],
   "source": [
    "# Integer\n",
    "a = 2\n",
    "\n",
    "# Float\n",
    "b = 3.14\n",
    "\n",
    "# Complex - 2 members - real & img\n",
    "c = 5+2j \n",
    "\n",
    "# String\n",
    "d = \"Hello, World!\"\n",
    "\n",
    "# Boolean\n",
    "e = True\n",
    "\n",
    "# List\n",
    "f = [1, True, 3.5, (1,2,3), ['a', 'b']]\n",
    "\n",
    "# Tuple - immutable \n",
    "g = (1, True, 3.5, (1,2,3), ['a', 'b'])\n",
    "\n",
    "# Set - unordered unique\n",
    "h = {1, True, 3.5}\n",
    "\n",
    "# Dictionary\n",
    "i = {\"name\": \"John\", \"age\": 30, \"subjects\":['C', 'C++', 'Java']}\n",
    "\n",
    "# None\n",
    "j = None\n"
   ]
  },
  {
   "cell_type": "code",
   "execution_count": 2,
   "metadata": {},
   "outputs": [
    {
     "name": "stdout",
     "output_type": "stream",
     "text": [
      "2\n",
      "3.14\n",
      "(5+2j)\n",
      "Hello, World!\n",
      "True\n",
      "[1, True, 3.5, (1, 2, 3), ['a', 'b']]\n",
      "(1, True, 3.5, (1, 2, 3), ['a', 'b'])\n",
      "{1, 3.5}\n",
      "{'name': 'John', 'age': 30, 'subjects': ['C', 'C++', 'Java']}\n",
      "None\n",
      "<class 'int'>\n",
      "<class 'float'>\n",
      "<class 'complex'>\n",
      "<class 'str'>\n",
      "<class 'bool'>\n",
      "<class 'list'>\n",
      "<class 'tuple'>\n",
      "<class 'set'>\n",
      "<class 'dict'>\n",
      "<class 'NoneType'>\n"
     ]
    }
   ],
   "source": [
    "print(a)\n",
    "print(b)\n",
    "print(c)\n",
    "print(d)\n",
    "print(e)\n",
    "print(f)\n",
    "print(g)\n",
    "print(h)\n",
    "print(i)\n",
    "print(j)\n",
    "\n",
    "print(type(a))\n",
    "print(type(b))\n",
    "print(type(c))\n",
    "print(type(d))\n",
    "print(type(e))\n",
    "print(type(f))\n",
    "print(type(g))\n",
    "print(type(h))\n",
    "print(type(i))\n",
    "print(type(j))\n"
   ]
  }
 ],
 "metadata": {
  "kernelspec": {
   "display_name": "base",
   "language": "python",
   "name": "python3"
  },
  "language_info": {
   "codemirror_mode": {
    "name": "ipython",
    "version": 3
   },
   "file_extension": ".py",
   "mimetype": "text/x-python",
   "name": "python",
   "nbconvert_exporter": "python",
   "pygments_lexer": "ipython3",
   "version": "3.9.12"
  }
 },
 "nbformat": 4,
 "nbformat_minor": 2
}
