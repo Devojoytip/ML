{
 "cells": [
  {
   "cell_type": "markdown",
   "id": "d76bab65",
   "metadata": {},
   "source": [
    "## Numpy"
   ]
  },
  {
   "cell_type": "code",
   "execution_count": 1,
   "id": "314f1dd5",
   "metadata": {},
   "outputs": [
    {
     "name": "stdout",
     "output_type": "stream",
     "text": [
      "3.0\n"
     ]
    }
   ],
   "source": [
    "import math as m\n",
    "print(m.sqrt(9))\n",
    "\n",
    "# if the module is large & we r importing only a part of it :\n",
    "# from x import y"
   ]
  },
  {
   "cell_type": "code",
   "execution_count": 2,
   "id": "ce6c0afa",
   "metadata": {},
   "outputs": [],
   "source": [
    "import numpy as np"
   ]
  },
  {
   "cell_type": "code",
   "execution_count": 31,
   "id": "71a0d767",
   "metadata": {},
   "outputs": [
    {
     "name": "stdout",
     "output_type": "stream",
     "text": [
      "[1, 2, 3, 4]\n",
      "[0. 0. 0. 0. 0. 0. 0. 0. 0. 0.] [1. 1. 1. 1. 1. 1. 1. 1. 1.]\n",
      "float64\n",
      "(10,)\n",
      "[0 0 0 0 0 0 0 0 0 0]\n",
      "int32\n",
      "[10  9  0  0  0  0  0  0  0  0]\n"
     ]
    }
   ],
   "source": [
    "# Creating Numpy arrays\n",
    "l=[1,2,3,4]\n",
    "np.array(l)\n",
    "print(l)\n",
    "\n",
    "l1=np.zeros(10)\n",
    "l2=np.ones(9)\n",
    "print(l1,l2)\n",
    "print(l1.dtype)\n",
    "print(l1.shape)\n",
    "\n",
    "l1=np.zeros(10,int)\n",
    "print(l1)\n",
    "print(l1.dtype)\n",
    "\n",
    "l1[0]=10.32\n",
    "l1[1]=\"9\" #converts to int\n",
    "# l1[1]=\"abc\" gives error\n",
    "print(l1)"
   ]
  },
  {
   "cell_type": "code",
   "execution_count": 29,
   "id": "b849d4be",
   "metadata": {},
   "outputs": [
    {
     "name": "stdout",
     "output_type": "stream",
     "text": [
      "[[0 0 0]\n",
      " [0 0 0]\n",
      " [0 0 0]]\n",
      "(3, 3)\n",
      "9\n",
      "[[11 20 33]\n",
      " [ 4  5  6]\n",
      " [ 7  8  9]\n",
      " [ 1  2  3]\n",
      " [ 4  5  6]\n",
      " [ 7  8  9]]\n",
      "(6, 3)\n",
      "18\n",
      "[11 20 33]\n",
      "[11  4  7  1  4  7]\n",
      "[4 7 1]\n"
     ]
    }
   ],
   "source": [
    "#2D Arrays\n",
    "arr=np.zeros((3,3),int)\n",
    "print(arr)\n",
    "\n",
    "print(arr.shape)\n",
    "print(arr.size)\n",
    "\n",
    "arr=np.array([[11,20,33],[4,5,6],[7,8,9],[1,2,3],[4,5,6],[7,8,9]])\n",
    "print(arr)\n",
    "\n",
    "print(arr.shape)\n",
    "print(arr.size)\n",
    "\n",
    "print(arr[0]) # oth row\n",
    "print(arr[:,0]) # 0th col\n",
    "\n",
    "print(arr[1:4,0]) # ele 1,2,3 of col - 0\n"
   ]
  },
  {
   "cell_type": "code",
   "execution_count": 43,
   "id": "f000f712",
   "metadata": {},
   "outputs": [
    {
     "name": "stdout",
     "output_type": "stream",
     "text": [
      "[ 3 22  5]\n",
      "[ 1 20  3]\n",
      "[15 25  9]\n",
      "[ 14 100  18]\n",
      "8.0\n",
      "20\n",
      "1\n",
      "132\n"
     ]
    }
   ],
   "source": [
    "# Operations\n",
    "a=np.array([1,20,3])\n",
    "b=np.array([14,5,6])\n",
    "print(a+2) # adding 2 to each ele\n",
    "print(a)\n",
    "\n",
    "print(a+b) # each corressponding ele of a added to each corressponding ele of b\n",
    "\n",
    "print(a*b) # each corressponding ele of a multiplied to each corressponding ele of b\n",
    "\n",
    "print(a.mean())\n",
    "print(a.max())\n",
    "print(a.min())\n",
    "print(a.dot(b)) # dot product of the 2 arr\n"
   ]
  },
  {
   "cell_type": "code",
   "execution_count": 42,
   "id": "beeea1ec",
   "metadata": {},
   "outputs": [
    {
     "name": "stdout",
     "output_type": "stream",
     "text": [
      "20.074859899884732\n"
     ]
    }
   ],
   "source": [
    "# Squared root distance\n",
    "c=np.array(m.sqrt(((a-b)**2).sum()))\n",
    "print(c)"
   ]
  },
  {
   "cell_type": "code",
   "execution_count": 54,
   "id": "085c465f",
   "metadata": {},
   "outputs": [
    {
     "name": "stdout",
     "output_type": "stream",
     "text": [
      "[[1 2 3]\n",
      " [4 5 6]]\n"
     ]
    }
   ],
   "source": [
    "#Matrices\n",
    "a=np.matrix('1,2,3;4,5,6')\n",
    "b=np.matrix('4,5,6;7,8,9')\n",
    "print(a)"
   ]
  }
 ],
 "metadata": {
  "kernelspec": {
   "display_name": "Python 3.9.12 ('base')",
   "language": "python",
   "name": "python3"
  },
  "language_info": {
   "codemirror_mode": {
    "name": "ipython",
    "version": 3
   },
   "file_extension": ".py",
   "mimetype": "text/x-python",
   "name": "python",
   "nbconvert_exporter": "python",
   "pygments_lexer": "ipython3",
   "version": "3.9.12"
  },
  "vscode": {
   "interpreter": {
    "hash": "ad2bdc8ecc057115af97d19610ffacc2b4e99fae6737bb82f5d7fb13d2f2c186"
   }
  }
 },
 "nbformat": 4,
 "nbformat_minor": 5
}
