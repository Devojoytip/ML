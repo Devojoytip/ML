{
 "cells": [
  {
   "cell_type": "code",
   "execution_count": 1,
   "metadata": {},
   "outputs": [],
   "source": [
    "import numpy as np"
   ]
  },
  {
   "cell_type": "code",
   "execution_count": 2,
   "metadata": {},
   "outputs": [
    {
     "name": "stdout",
     "output_type": "stream",
     "text": [
      "[1 2 3]\n",
      "1\n",
      "[[1 2 3 4]\n",
      " [5 6 7 8]]\n",
      "2\n",
      "[[[1 1 1 1]\n",
      "  [1 1 1 1]\n",
      "  [1 1 1 1]]]\n",
      "3\n",
      "[[[[[[[[[[1 2 3]\n",
      "         [4 5 6]]]]]]]]]]\n",
      "10\n"
     ]
    }
   ],
   "source": [
    "# 1D array\n",
    "ar1=np.array([1,2,3])\n",
    "print(ar1)\n",
    "print(ar1.ndim)\n",
    "\n",
    "# 2D array\n",
    "ar2=np.array([[1,2,3,4], [5,6,7,8]])\n",
    "print(ar2)\n",
    "print(ar2.ndim)\n",
    "\n",
    "# 3D array\n",
    "ar3=np.array([[[1,1,1,1], [1,1,1,1], [1,1,1,1]]])\n",
    "print(ar3)\n",
    "print(ar3.ndim)\n",
    "\n",
    "# N-D array using ndmin\n",
    "arn=np.array([[1,2,3], [4,5,6]], ndmin=10)\n",
    "print(arn)\n",
    "print(arn.ndim)"
   ]
  }
 ],
 "metadata": {
  "kernelspec": {
   "display_name": "base",
   "language": "python",
   "name": "python3"
  },
  "language_info": {
   "codemirror_mode": {
    "name": "ipython",
    "version": 3
   },
   "file_extension": ".py",
   "mimetype": "text/x-python",
   "name": "python",
   "nbconvert_exporter": "python",
   "pygments_lexer": "ipython3",
   "version": "3.9.12"
  }
 },
 "nbformat": 4,
 "nbformat_minor": 2
}
