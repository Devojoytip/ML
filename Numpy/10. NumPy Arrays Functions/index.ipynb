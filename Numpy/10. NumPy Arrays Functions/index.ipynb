{
 "cells": [
  {
   "cell_type": "markdown",
   "metadata": {},
   "source": [
    "# Insert"
   ]
  },
  {
   "cell_type": "code",
   "execution_count": 25,
   "metadata": {},
   "outputs": [],
   "source": [
    "import numpy as np"
   ]
  },
  {
   "cell_type": "code",
   "execution_count": 33,
   "metadata": {},
   "outputs": [
    {
     "name": "stdout",
     "output_type": "stream",
     "text": [
      "[ 5  8  3 10  6  9  1  7]\n",
      "[ 5  8  3 10  6  9 10  1  7]\n",
      "[ 5  8  3 10  6  9 20  1  7]\n",
      "[ 5  8  3 10  6  9 20  1  7]\n"
     ]
    }
   ],
   "source": [
    "x = np.array([5, 8, 3, 6, 9, 1, 7])\n",
    "#             0  1  2  3  4  5  6\n",
    "\n",
    "res = np.insert(x, 3, 10)  # pos ele\n",
    "print(res)\n",
    "\n",
    "res = np.insert(x, [3, 5], 10)  # pos ele\n",
    "print(res)\n",
    "\n",
    "res = np.insert(x, [3, 5], [10, 20])  # pos ele\n",
    "print(res)\n",
    "\n",
    "res = np.insert(x, [3, 5], [10, 20])  # pos ele\n",
    "print(res)"
   ]
  },
  {
   "cell_type": "code",
   "execution_count": 42,
   "metadata": {},
   "outputs": [
    {
     "name": "stdout",
     "output_type": "stream",
     "text": [
      "[[5 6 8 3 6 4]\n",
      " [9 6 6 7 1 0]]\n",
      "[[5 8 3 6 4]\n",
      " [6 6 6 6 6]\n",
      " [9 6 7 1 0]]\n",
      "[[ 5  8  3  6  4]\n",
      " [ 0  1  4  9 10]\n",
      " [ 9  6  7  1  0]]\n"
     ]
    }
   ],
   "source": [
    "x = np.array([[5, 8, 3, 6, 4], [9, 6, 7, 1, 0]])\n",
    "\n",
    "res = np.insert(x, 1, 6, axis=1) # 1 - column\n",
    "print(res)\n",
    "\n",
    "res = np.insert(x, 1, 6, axis=0) # 0 - row\n",
    "print(res)\n",
    "\n",
    "res = np.insert(x, 1, [0, 1, 4, 9 , 10], axis=0)\n",
    "print(res)"
   ]
  },
  {
   "cell_type": "markdown",
   "metadata": {},
   "source": [
    "# Append"
   ]
  },
  {
   "cell_type": "code",
   "execution_count": 48,
   "metadata": {},
   "outputs": [
    {
     "name": "stdout",
     "output_type": "stream",
     "text": [
      "[ 5  8  3  6  9  1  7 10]\n",
      "[ 5  8  3  6  9  1  7 10 50]\n",
      "[ 5  8  3 10  6  9 20  1  7]\n",
      "[ 5  8  3 10  6  9 20  1  7]\n"
     ]
    }
   ],
   "source": [
    "x = np.array([5, 8, 3, 6, 9, 1, 7])\n",
    "#             0  1  2  3  4  5  6\n",
    "\n",
    "res = np.append(x, 10)  # ele\n",
    "print(res)\n",
    "\n",
    "res = np.append(x, [10, 50])  # ele\n",
    "print(res)"
   ]
  },
  {
   "cell_type": "code",
   "execution_count": 53,
   "metadata": {},
   "outputs": [
    {
     "name": "stdout",
     "output_type": "stream",
     "text": [
      "[[ 5  8  3]\n",
      " [ 9  6  7]\n",
      " [ 6 10  2]]\n"
     ]
    }
   ],
   "source": [
    "x = np.array([[5, 8, 3], [9, 6, 7]])\n",
    "\n",
    "res = np.append(x, [[6, 10, 2]], axis=0)  # 1 - column\n",
    "print(res)"
   ]
  },
  {
   "cell_type": "markdown",
   "metadata": {},
   "source": [
    "# Delete"
   ]
  },
  {
   "cell_type": "code",
   "execution_count": 61,
   "metadata": {},
   "outputs": [
    {
     "name": "stdout",
     "output_type": "stream",
     "text": [
      "[5 8 6 9 1 7]\n",
      "[[5 3 6 4]\n",
      " [9 7 1 0]]\n",
      "[[5 1 3 6 4]]\n"
     ]
    }
   ],
   "source": [
    "x = np.array([5, 8, 10, 6, 9, 1, 7])\n",
    "#             0  1  2  3  4  5  6\n",
    "\n",
    "res = np.delete(x, 2)  # pos ele\n",
    "print(res)\n",
    "\n",
    "x = np.array([[5, 1, 3, 6, 4], [9, 10, 7, 1, 0]])\n",
    "\n",
    "res = np.delete(x, 1, axis=1) # 1 - column\n",
    "print(res)\n",
    "\n",
    "res = np.delete(x, 1, axis=0) # 1 - column\n",
    "print(res)"
   ]
  },
  {
   "cell_type": "markdown",
   "metadata": {},
   "source": [
    "# Search - np.where()"
   ]
  },
  {
   "cell_type": "code",
   "execution_count": 4,
   "metadata": {},
   "outputs": [
    {
     "name": "stdout",
     "output_type": "stream",
     "text": [
      "(array([1], dtype=int64),)\n",
      "(array([1, 3], dtype=int64),)\n"
     ]
    }
   ],
   "source": [
    "x = np.array([5, 8, 3, 6, 9, 1, 7])\n",
    "#             0  1  2  3  4  5  6\n",
    "\n",
    "# np.where() returns array of indices\n",
    "res = np.where(x == 8)\n",
    "print(res)\n",
    "\n",
    "res = np.where(x % 2 == 0)\n",
    "print(res)"
   ]
  },
  {
   "cell_type": "markdown",
   "metadata": {},
   "source": [
    "# Sort - np.sort()"
   ]
  },
  {
   "cell_type": "code",
   "execution_count": 11,
   "metadata": {},
   "outputs": [
    {
     "name": "stdout",
     "output_type": "stream",
     "text": [
      "[1 3 5 6 7 8 9]\n"
     ]
    }
   ],
   "source": [
    "x = np.array([5, 8, 3, 6, 9, 1, 7])\n",
    "res = np.sort(x)\n",
    "print(res)"
   ]
  },
  {
   "cell_type": "code",
   "execution_count": 9,
   "metadata": {},
   "outputs": [
    {
     "name": "stdout",
     "output_type": "stream",
     "text": [
      "[[3 4 5 6 8]\n",
      " [0 1 6 7 9]]\n"
     ]
    }
   ],
   "source": [
    "x = np.array([[5, 8, 3, 6, 4], [9, 6, 7, 1, 0]])\n",
    "res = np.sort(x)\n",
    "print(res)"
   ]
  },
  {
   "cell_type": "markdown",
   "metadata": {},
   "source": [
    "# Filter - np.filter()"
   ]
  },
  {
   "cell_type": "code",
   "execution_count": 10,
   "metadata": {},
   "outputs": [
    {
     "name": "stdout",
     "output_type": "stream",
     "text": [
      "[5 3 1]\n"
     ]
    }
   ],
   "source": [
    "x = np.array([5, 8, 3, 6, 9, 1, 7])\n",
    "f = [True, False, True, False, False, True, False,]\n",
    "\n",
    "res=x[f]\n",
    "\n",
    "print(res)"
   ]
  },
  {
   "cell_type": "markdown",
   "metadata": {},
   "source": [
    "# Shuffle - np.random.shuffle()"
   ]
  },
  {
   "cell_type": "code",
   "execution_count": 15,
   "metadata": {},
   "outputs": [
    {
     "name": "stdout",
     "output_type": "stream",
     "text": [
      "[3 6 5 1 7 8 9]\n"
     ]
    }
   ],
   "source": [
    "x = np.array([5, 8, 3, 6, 9, 1, 7])\n",
    "np.random.shuffle(x)\n",
    "print(x)"
   ]
  },
  {
   "cell_type": "markdown",
   "metadata": {},
   "source": [
    "# Unique - np.unique()"
   ]
  },
  {
   "cell_type": "code",
   "execution_count": 20,
   "metadata": {},
   "outputs": [
    {
     "name": "stdout",
     "output_type": "stream",
     "text": [
      "[3 5 6 9]\n",
      "(array([3, 5, 6, 9]), array([2, 0, 3, 4], dtype=int64))\n",
      "(array([3, 5, 6, 9]), array([2, 0, 3, 4], dtype=int64), array([1, 3, 2, 1], dtype=int64))\n"
     ]
    }
   ],
   "source": [
    "x = np.array([5, 5, 3, 6, 9, 6, 5])\n",
    "res = np.unique(x)\n",
    "print(res)\n",
    "res = np.unique(x, return_index=True)\n",
    "print(res)\n",
    "res = np.unique(x, return_index=True, return_counts=True)\n",
    "print(res)"
   ]
  },
  {
   "cell_type": "markdown",
   "metadata": {},
   "source": [
    "# Resize - np.resize()"
   ]
  },
  {
   "cell_type": "code",
   "execution_count": 22,
   "metadata": {},
   "outputs": [
    {
     "name": "stdout",
     "output_type": "stream",
     "text": [
      "[[5 8]\n",
      " [3 6]\n",
      " [9 1]\n",
      " [7 0]]\n",
      "[[[5 8]\n",
      "  [3 6]]\n",
      "\n",
      " [[9 1]\n",
      "  [7 0]]]\n"
     ]
    }
   ],
   "source": [
    "x = np.array([5, 8, 3, 6, 9, 1, 7, 0])\n",
    "res = np.resize(x, (4, 2))\n",
    "print(res)\n",
    "res = np.resize(x, (2, 2, 2))\n",
    "print(res)"
   ]
  },
  {
   "cell_type": "markdown",
   "metadata": {},
   "source": [
    "# Flatten "
   ]
  },
  {
   "cell_type": "code",
   "execution_count": 24,
   "metadata": {},
   "outputs": [
    {
     "name": "stdout",
     "output_type": "stream",
     "text": [
      "[5 8 3 6 4 9 6 7 1 0]\n"
     ]
    }
   ],
   "source": [
    "x = np.array([[5, 8, 3, 6, 4], [9, 6, 7, 1, 0]])\n",
    "res = x.flatten()\n",
    "print(res)"
   ]
  }
 ],
 "metadata": {
  "kernelspec": {
   "display_name": "base",
   "language": "python",
   "name": "python3"
  },
  "language_info": {
   "codemirror_mode": {
    "name": "ipython",
    "version": 3
   },
   "file_extension": ".py",
   "mimetype": "text/x-python",
   "name": "python",
   "nbconvert_exporter": "python",
   "pygments_lexer": "ipython3",
   "version": "3.9.12"
  }
 },
 "nbformat": 4,
 "nbformat_minor": 2
}
