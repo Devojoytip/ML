{
 "cells": [
  {
   "cell_type": "markdown",
   "metadata": {},
   "source": [
    "<img src=\"numpy.png\" width=\"340\">"
   ]
  },
  {
   "cell_type": "code",
   "execution_count": 1,
   "metadata": {},
   "outputs": [],
   "source": [
    "import numpy as np"
   ]
  },
  {
   "cell_type": "code",
   "execution_count": 7,
   "metadata": {},
   "outputs": [
    {
     "name": "stdout",
     "output_type": "stream",
     "text": [
      "[3 4 5 6 7]\n",
      "[2 3 4 5 6]\n",
      "[0.5        0.33333333 0.25       0.2        0.16666667]\n",
      "[ 3  5  7  9 11]\n"
     ]
    }
   ],
   "source": [
    "x = np.array([1, 2, 3, 4, 5])\n",
    "y = np.array([1, 2, 3, 4, 5])\n",
    "x = x+2\n",
    "print(x)\n",
    "x -= 1\n",
    "print(x)\n",
    "z = 1/x\n",
    "print(z)\n",
    "z = x+y\n",
    "print(z)"
   ]
  },
  {
   "cell_type": "markdown",
   "metadata": {},
   "source": [
    "<img src=\"n2.png\" height=\"200\">"
   ]
  },
  {
   "cell_type": "code",
   "execution_count": 15,
   "metadata": {},
   "outputs": [
    {
     "name": "stdout",
     "output_type": "stream",
     "text": [
      "5\n",
      "1\n",
      "Index of min =  4\n",
      "Index of max =  0\n",
      "[1.         1.41421356 1.73205081 2.         2.23606798]\n",
      "[ 0.84147098  0.90929743  0.14112001 -0.7568025  -0.95892427]\n",
      "[ 1  3  6 10 15]\n"
     ]
    }
   ],
   "source": [
    "x = np.array([1, 2, 3, 4, 5])\n",
    "print(x.max())\n",
    "print(x.min())\n",
    "print('Index of min = ', x.argmax())\n",
    "print('Index of max = ', x.argmin())\n",
    "\n",
    "print(np.sqrt(x))\n",
    "print(np.sin(x))\n",
    "print(np.cumsum(x))  # cumulative sum"
   ]
  },
  {
   "cell_type": "code",
   "execution_count": 25,
   "metadata": {},
   "outputs": [
    {
     "name": "stdout",
     "output_type": "stream",
     "text": [
      "[[[  1   2   5   8]\n",
      "  [ 22   6  70 180]\n",
      "  [ 39 100   0   5]]]\n",
      "[[  1   2   5   8]\n",
      " [ 22   6  70 180]\n",
      " [ 39 100   0   5]]\n",
      "[[ 39 100  70 180]]\n"
     ]
    }
   ],
   "source": [
    "x = np.array([[[1, 2, 5, 8], [22, 6, 70, 180], [39, 100, 0, 5]]])\n",
    "print(x)\n",
    "\n",
    "# find max for colums axis=0\n",
    "print(np.max(x, axis=0))\n",
    "\n",
    "# find max for rows axis=1\n",
    "print(np.max(x, axis=1))"
   ]
  }
 ],
 "metadata": {
  "kernelspec": {
   "display_name": "base",
   "language": "python",
   "name": "python3"
  },
  "language_info": {
   "codemirror_mode": {
    "name": "ipython",
    "version": 3
   },
   "file_extension": ".py",
   "mimetype": "text/x-python",
   "name": "python",
   "nbconvert_exporter": "python",
   "pygments_lexer": "ipython3",
   "version": "3.9.12"
  }
 },
 "nbformat": 4,
 "nbformat_minor": 2
}
