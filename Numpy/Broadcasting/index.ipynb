{
 "cells": [
  {
   "cell_type": "markdown",
   "metadata": {},
   "source": [
    "<img src=\"img.png\" width=\"580\" height=\"200\" >"
   ]
  },
  {
   "cell_type": "markdown",
   "metadata": {},
   "source": [
    "# Examples"
   ]
  },
  {
   "cell_type": "markdown",
   "metadata": {},
   "source": [
    "<img src=\"i2.png\" width=\"400\" height=\"200\" >\n",
    "<img src=\"i4.png\" width=\"400\" height=\"216\" >\n",
    "<img src=\"i3.png\" width=\"400\" height=\"200\" >"
   ]
  },
  {
   "cell_type": "markdown",
   "metadata": {},
   "source": [
    "# Rules for Broadcasting"
   ]
  },
  {
   "cell_type": "markdown",
   "metadata": {},
   "source": [
    "<img src=\"i5.png\" width=\"580\" height=\"500\" >"
   ]
  },
  {
   "cell_type": "code",
   "execution_count": 1,
   "metadata": {},
   "outputs": [],
   "source": [
    "import numpy as np"
   ]
  },
  {
   "cell_type": "code",
   "execution_count": 7,
   "metadata": {},
   "outputs": [
    {
     "name": "stdout",
     "output_type": "stream",
     "text": [
      "(5,)\n",
      "(1,)\n",
      "[ 6  7  8  9 10]\n",
      "(5,)\n"
     ]
    }
   ],
   "source": [
    "x=np.array([1,2,3,4,5])\n",
    "print(x.shape) # 5\n",
    "\n",
    "y=np.array([5]) \n",
    "print(y.shape) # 1\n",
    "\n",
    "# Broadcasting - 5 & 1 we have 1 \n",
    "z=x+y \n",
    "print(z)\n",
    "print(z.shape) # always takes max so (5,)"
   ]
  },
  {
   "cell_type": "code",
   "execution_count": 9,
   "metadata": {},
   "outputs": [
    {
     "name": "stdout",
     "output_type": "stream",
     "text": [
      "(2, 5)\n",
      "(1, 5)\n",
      "[[ 4  6  8 10 12]\n",
      " [ 4  6  8 10 12]]\n",
      "(2, 5)\n"
     ]
    }
   ],
   "source": [
    "x=np.array([[1,2,3,4,5], [1,2,3,4,5]])\n",
    "print(x.shape) # 2 5\n",
    "\n",
    "y=np.array([[3,4,5,6,7]])\n",
    "print(y.shape) # 1 5\n",
    "\n",
    "# Broadcasting - 2 5 and 1 5 -> 5,5 equal and 2,1 have 1\n",
    "z=x+y \n",
    "print(z)\n",
    "print(z.shape) # always takes max so (2,5)"
   ]
  }
 ],
 "metadata": {
  "kernelspec": {
   "display_name": "base",
   "language": "python",
   "name": "python3"
  },
  "language_info": {
   "codemirror_mode": {
    "name": "ipython",
    "version": 3
   },
   "file_extension": ".py",
   "mimetype": "text/x-python",
   "name": "python",
   "nbconvert_exporter": "python",
   "pygments_lexer": "ipython3",
   "version": "3.9.12"
  }
 },
 "nbformat": 4,
 "nbformat_minor": 2
}
