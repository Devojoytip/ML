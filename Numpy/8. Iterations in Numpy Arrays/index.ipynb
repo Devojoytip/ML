{
 "cells": [
  {
   "cell_type": "code",
   "execution_count": 1,
   "metadata": {},
   "outputs": [],
   "source": [
    "import numpy as np"
   ]
  },
  {
   "cell_type": "code",
   "execution_count": 2,
   "metadata": {},
   "outputs": [
    {
     "name": "stdout",
     "output_type": "stream",
     "text": [
      "5\n",
      "8\n",
      "3\n",
      "6\n",
      "9\n",
      "1\n",
      "7\n"
     ]
    }
   ],
   "source": [
    "x = np.array([5, 8, 3, 6, 9, 1, 7])\n",
    "\n",
    "for i in x:\n",
    "    print(i)"
   ]
  },
  {
   "cell_type": "markdown",
   "metadata": {},
   "source": [
    "# Multi-Dimesnional"
   ]
  },
  {
   "cell_type": "code",
   "execution_count": 4,
   "metadata": {},
   "outputs": [
    {
     "name": "stdout",
     "output_type": "stream",
     "text": [
      "[5 8 3 6 4]\n",
      "[9 6 7 1 0]\n",
      "5\n",
      "8\n",
      "3\n",
      "6\n",
      "4\n",
      "9\n",
      "6\n",
      "7\n",
      "1\n",
      "0\n"
     ]
    }
   ],
   "source": [
    "x = np.array([[5, 8, 3, 6, 4], [9, 6, 7, 1, 0]])\n",
    "\n",
    "for i in x:\n",
    "    print(i)\n",
    "\n",
    "for i in x:\n",
    "    for j in i:\n",
    "        print(j)"
   ]
  },
  {
   "cell_type": "code",
   "execution_count": 5,
   "metadata": {},
   "outputs": [
    {
     "name": "stdout",
     "output_type": "stream",
     "text": [
      "5\n",
      "8\n",
      "3\n",
      "6\n",
      "4\n",
      "9\n",
      "6\n",
      "7\n",
      "1\n",
      "0\n",
      "4\n",
      "8\n",
      "1\n",
      "9\n",
      "2\n",
      "3\n",
      "1\n",
      "7\n",
      "5\n",
      "8\n"
     ]
    }
   ],
   "source": [
    "# For N dim we have N loops\n",
    "x = np.array([[[5, 8, 3, 6, 4], [9, 6, 7, 1, 0]], [[4, 8, 1, 9, 2], [3, 1, 7, 5, 8]]])\n",
    "\n",
    "for i in x:\n",
    "    for j in i:\n",
    "        for k in j:\n",
    "            print(k)"
   ]
  }
 ],
 "metadata": {
  "kernelspec": {
   "display_name": "base",
   "language": "python",
   "name": "python3"
  },
  "language_info": {
   "codemirror_mode": {
    "name": "ipython",
    "version": 3
   },
   "file_extension": ".py",
   "mimetype": "text/x-python",
   "name": "python",
   "nbconvert_exporter": "python",
   "pygments_lexer": "ipython3",
   "version": "3.9.12"
  }
 },
 "nbformat": 4,
 "nbformat_minor": 2
}
