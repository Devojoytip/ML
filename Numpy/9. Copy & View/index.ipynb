{
 "cells": [
  {
   "cell_type": "code",
   "execution_count": 1,
   "metadata": {},
   "outputs": [],
   "source": [
    "import numpy as np"
   ]
  },
  {
   "cell_type": "markdown",
   "metadata": {},
   "source": [
    "# View or Shallow Copy"
   ]
  },
  {
   "cell_type": "code",
   "execution_count": 4,
   "metadata": {},
   "outputs": [
    {
     "name": "stdout",
     "output_type": "stream",
     "text": [
      "[5 8 3 6 9 1 7]\n",
      "[5 8 3 6 9 1 7]\n",
      "[ 7 10  5  8 11  3  9]\n",
      "[ 7 10  5  8 11  3  9]\n"
     ]
    }
   ],
   "source": [
    "x = np.array([5, 8, 3, 6, 9, 1, 7])\n",
    "\n",
    "x_view = x.view()\n",
    "\n",
    "print(x)\n",
    "print(x_view)\n",
    "\n",
    "x_view += 2\n",
    "\n",
    "print(x)\n",
    "print(x_view)"
   ]
  },
  {
   "cell_type": "markdown",
   "metadata": {},
   "source": [
    "# Deep Copy"
   ]
  },
  {
   "cell_type": "code",
   "execution_count": 3,
   "metadata": {},
   "outputs": [
    {
     "name": "stdout",
     "output_type": "stream",
     "text": [
      "[5 8 3 6 9 1 7]\n",
      "[5 8 3 6 9 1 7]\n",
      "[5 8 3 6 9 1 7]\n",
      "[ 7 10  5  8 11  3  9]\n"
     ]
    }
   ],
   "source": [
    "x = np.array([5, 8, 3, 6, 9, 1, 7])\n",
    "\n",
    "x_copy = x.copy()\n",
    "\n",
    "print(x)\n",
    "print(x_copy)\n",
    "\n",
    "x_copy += 2\n",
    "\n",
    "print(x)\n",
    "print(x_copy)"
   ]
  }
 ],
 "metadata": {
  "kernelspec": {
   "display_name": "base",
   "language": "python",
   "name": "python3"
  },
  "language_info": {
   "codemirror_mode": {
    "name": "ipython",
    "version": 3
   },
   "file_extension": ".py",
   "mimetype": "text/x-python",
   "name": "python",
   "nbconvert_exporter": "python",
   "pygments_lexer": "ipython3",
   "version": "3.9.12"
  }
 },
 "nbformat": 4,
 "nbformat_minor": 2
}
