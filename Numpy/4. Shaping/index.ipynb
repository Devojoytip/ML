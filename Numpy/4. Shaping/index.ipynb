{
 "cells": [
  {
   "cell_type": "markdown",
   "metadata": {},
   "source": [
    "# Shape"
   ]
  },
  {
   "cell_type": "code",
   "execution_count": 2,
   "metadata": {},
   "outputs": [],
   "source": [
    "import numpy as np"
   ]
  },
  {
   "cell_type": "code",
   "execution_count": 12,
   "metadata": {},
   "outputs": [
    {
     "name": "stdout",
     "output_type": "stream",
     "text": [
      "(5,)\n"
     ]
    }
   ],
   "source": [
    "x=np.array([1,2,3,4,5])\n",
    "print(x.shape) # x has a shape of (5,) - it has 5 elements "
   ]
  },
  {
   "cell_type": "code",
   "execution_count": 13,
   "metadata": {},
   "outputs": [
    {
     "name": "stdout",
     "output_type": "stream",
     "text": [
      "(2, 4)\n",
      "(3, 4)\n"
     ]
    }
   ],
   "source": [
    "x = np.array([[1, 2, 5, 8], [3,4,8,10]])\n",
    "print(x.shape) # 2 lists each has 4 elements\n",
    "\n",
    "x = np.array([[1, 2, 5, 8], [22, 6, 70, 180], [3,4,8,10]])\n",
    "print(x.shape) # 3 lists each has 4 elements"
   ]
  },
  {
   "cell_type": "code",
   "execution_count": 3,
   "metadata": {},
   "outputs": [
    {
     "name": "stdout",
     "output_type": "stream",
     "text": [
      "(1, 3, 4)\n",
      "(2, 3, 4)\n",
      "[[[[[1 2 3]\n",
      "    [4 5 6]]]]]\n",
      "(1, 1, 1, 2, 3)\n"
     ]
    }
   ],
   "source": [
    "x = np.array([[[1, 2, 5, 8], [22, 6, 70, 180], [39, 100, 0, 5]]])\n",
    "print(x.shape) # (1, 3, 4) - 1 list, inside has 3 lists, each has 4 ele\n",
    "\n",
    "x = np.array([[[1, 2, 5, 8], [22, 6, 70, 180], [39, 100, 0, 5]], [[1, 2, 5, 8], [22, 6, 70, 180], [39, 100, 0, 5]]])\n",
    "print(x.shape) # (2, 3, 4) - 2 lists, inside has 3 lists, each has 4 ele\n",
    "\n",
    "x=np.array([[1,2,3],[4,5,6]],ndmin=5)\n",
    "print(x)\n",
    "print(x.shape)"
   ]
  },
  {
   "cell_type": "markdown",
   "metadata": {},
   "source": [
    "# Reshape"
   ]
  },
  {
   "cell_type": "code",
   "execution_count": 20,
   "metadata": {},
   "outputs": [
    {
     "name": "stdout",
     "output_type": "stream",
     "text": [
      "[[1 2]\n",
      " [3 4]\n",
      " [5 6]]\n",
      "(3, 2)\n",
      "2\n",
      "[[[1 2]\n",
      "  [3 4]\n",
      "  [5 6]]]\n",
      "(1, 3, 2)\n",
      "3\n",
      "[[[1 2 3]\n",
      "  [4 5 6]]\n",
      "\n",
      " [[1 2 3]\n",
      "  [4 5 6]]]\n",
      "(2, 2, 3)\n",
      "3\n"
     ]
    }
   ],
   "source": [
    "x=np.array([1,2,3,4,5,6])\n",
    "\n",
    "y=x.reshape(3,2) \n",
    "print(y.shape)\n",
    "print(y.ndim)\n",
    "\n",
    "y=x.reshape(1,3,2) \n",
    "print(y)\n",
    "print(y.shape)\n",
    "print(y.ndim)\n",
    "\n",
    "x=np.array([1,2,3,4,5,6,1,2,3,4,5,6])\n",
    "y=x.reshape(2,2,3) \n",
    "print(y)\n",
    "print(y.shape)\n",
    "print(y.ndim)"
   ]
  }
 ],
 "metadata": {
  "kernelspec": {
   "display_name": "base",
   "language": "python",
   "name": "python3"
  },
  "language_info": {
   "codemirror_mode": {
    "name": "ipython",
    "version": 3
   },
   "file_extension": ".py",
   "mimetype": "text/x-python",
   "name": "python",
   "nbconvert_exporter": "python",
   "pygments_lexer": "ipython3",
   "version": "3.9.12"
  }
 },
 "nbformat": 4,
 "nbformat_minor": 2
}
