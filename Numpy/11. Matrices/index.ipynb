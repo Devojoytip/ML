{
 "cells": [
  {
   "cell_type": "code",
   "execution_count": 1,
   "metadata": {},
   "outputs": [],
   "source": [
    "import numpy as np"
   ]
  },
  {
   "cell_type": "code",
   "execution_count": 7,
   "metadata": {},
   "outputs": [
    {
     "name": "stdout",
     "output_type": "stream",
     "text": [
      "[[1 2 3]\n",
      " [4 5 6]\n",
      " [7 8 9]]\n",
      "<class 'numpy.matrix'>\n",
      "(3, 3)\n"
     ]
    }
   ],
   "source": [
    "x = np.matrix([[1, 2, 3], [4, 5, 6], [7, 8, 9]])\n",
    "print(x)\n",
    "print(type(x))\n",
    "print(x.shape)"
   ]
  },
  {
   "cell_type": "code",
   "execution_count": 9,
   "metadata": {},
   "outputs": [
    {
     "name": "stdout",
     "output_type": "stream",
     "text": [
      "[[-7 -4  3]\n",
      " [ 0 -4  5]]\n",
      "[[ 16  45   5]\n",
      " [ 52 111  11]]\n",
      "[[ 16  45   5]\n",
      " [ 52 111  11]]\n"
     ]
    }
   ],
   "source": [
    "x = np.matrix([[1, 2, 3], [4, 5, 6]])\n",
    "y = np.matrix([[8, 6, 0], [4, 9, 1]])\n",
    "\n",
    "z = x-y\n",
    "print(z)\n",
    "\n",
    "y = np.matrix([[8, 6, 0], [4, 9, 1], [0, 7, 1]])\n",
    "z = x*y  # dimensions must satisfy the matrix multiplication criteria\n",
    "print(z)\n",
    "\n",
    "z = x.dot(y)  # dimensions must satisfy the matrix multiplication criteria\n",
    "print(z)"
   ]
  }
 ],
 "metadata": {
  "kernelspec": {
   "display_name": "base",
   "language": "python",
   "name": "python3"
  },
  "language_info": {
   "codemirror_mode": {
    "name": "ipython",
    "version": 3
   },
   "file_extension": ".py",
   "mimetype": "text/x-python",
   "name": "python",
   "nbconvert_exporter": "python",
   "pygments_lexer": "ipython3",
   "version": "3.9.12"
  }
 },
 "nbformat": 4,
 "nbformat_minor": 2
}
