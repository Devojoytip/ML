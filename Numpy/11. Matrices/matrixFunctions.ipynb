{
 "cells": [
  {
   "cell_type": "markdown",
   "metadata": {},
   "source": [
    "<img src=\"i.png\" width=\"340\" >"
   ]
  },
  {
   "cell_type": "code",
   "execution_count": 1,
   "metadata": {},
   "outputs": [],
   "source": [
    "import numpy as np"
   ]
  },
  {
   "cell_type": "code",
   "execution_count": 11,
   "metadata": {},
   "outputs": [
    {
     "name": "stdout",
     "output_type": "stream",
     "text": [
      "[[1 4 7]\n",
      " [2 6 9]]\n",
      "[[ 3.15251974e+15 -6.30503948e+15  3.15251974e+15]\n",
      " [-6.30503948e+15  1.26100790e+16 -6.30503948e+15]\n",
      " [ 3.15251974e+15 -6.30503948e+15  3.15251974e+15]]\n",
      "[[ 30  36  42]\n",
      " [ 66  81  96]\n",
      " [102 126 150]]\n",
      "[[1 0 0]\n",
      " [0 1 0]\n",
      " [0 0 1]]\n",
      "[[ 5.96302842e+31 -1.19260568e+32  5.96302842e+31]\n",
      " [-1.19260568e+32  2.38521137e+32 -1.19260568e+32]\n",
      " [ 5.96302842e+31 -1.19260568e+32  5.96302842e+31]]\n",
      "-9.51619735392994e-16\n",
      "<class 'numpy.float64'>\n"
     ]
    }
   ],
   "source": [
    "x = np.matrix([[1, 2], [4, 6], [7, 9]])\n",
    "\n",
    "# Transpose\n",
    "transpose_matrix = np.transpose(x)\n",
    "print(transpose_matrix)\n",
    "\n",
    "# Inverse\n",
    "x = np.matrix([[1, 2, 3], [4, 5, 6], [7, 8, 9]])\n",
    "inverse_matrix = np.linalg.inv(x)\n",
    "print(inverse_matrix)\n",
    "\n",
    "# Power\n",
    "power_matrix = np.linalg.matrix_power(x, 2)\n",
    "print(power_matrix)\n",
    "\n",
    "power_matrix = np.linalg.matrix_power(x, 0) # fill diag with 1s and other 0s\n",
    "print(power_matrix)\n",
    "\n",
    "power_matrix = np.linalg.matrix_power(x, -2)\n",
    "print(power_matrix)\n",
    "\n",
    "# Determinant\n",
    "determinant = np.linalg.det(x)\n",
    "print(determinant)"
   ]
  }
 ],
 "metadata": {
  "kernelspec": {
   "display_name": "base",
   "language": "python",
   "name": "python3"
  },
  "language_info": {
   "codemirror_mode": {
    "name": "ipython",
    "version": 3
   },
   "file_extension": ".py",
   "mimetype": "text/x-python",
   "name": "python",
   "nbconvert_exporter": "python",
   "pygments_lexer": "ipython3",
   "version": "3.9.12"
  }
 },
 "nbformat": 4,
 "nbformat_minor": 2
}
