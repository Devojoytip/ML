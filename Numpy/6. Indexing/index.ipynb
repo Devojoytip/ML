{
 "cells": [
  {
   "cell_type": "markdown",
   "metadata": {},
   "source": [
    "# Indexing"
   ]
  },
  {
   "cell_type": "code",
   "execution_count": 1,
   "metadata": {},
   "outputs": [],
   "source": [
    "import numpy as np"
   ]
  },
  {
   "cell_type": "code",
   "execution_count": 2,
   "metadata": {},
   "outputs": [
    {
     "name": "stdout",
     "output_type": "stream",
     "text": [
      "0\n",
      "0\n"
     ]
    }
   ],
   "source": [
    "x = np.array([0, 1, 2, 3, 4])\n",
    "#             0  1  2  3  4   \n",
    "#             -5 -4 -3 -2 -1  \n",
    "\n",
    "print(x[0])\n",
    "print(x[-5])"
   ]
  },
  {
   "cell_type": "code",
   "execution_count": 4,
   "metadata": {},
   "outputs": [
    {
     "name": "stdout",
     "output_type": "stream",
     "text": [
      "[5 8 3 6 4]\n",
      "[9 6 7 1 0]\n",
      "3\n"
     ]
    }
   ],
   "source": [
    "x = np.array([[5, 8, 3, 6, 4], [9, 6, 7, 1, 0]])\n",
    "# 2 lists -    list 1           list 2\n",
    "#              0  1  2  3  4    0  1  2  3  4\n",
    "\n",
    "print(x[0])\n",
    "print(x[1])\n",
    "\n",
    "print(x[0][2])"
   ]
  },
  {
   "cell_type": "code",
   "execution_count": 13,
   "metadata": {},
   "outputs": [
    {
     "name": "stdout",
     "output_type": "stream",
     "text": [
      "[[5 8 3 6 4]\n",
      " [9 6 7 1 0]]\n",
      "[[4 8 1 9 2]\n",
      " [3 1 7 5 8]]\n",
      "2\n"
     ]
    }
   ],
   "source": [
    "# x = np.array([[[5, 8, 3, 6, 4], [9, 6, 7, 1, 0]], [[5, 8, 3, 6, 4]]])\n",
    "# error - same no of lists and same no of elements in each list\n",
    "\n",
    "x = np.array([[[5, 8, 3, 6, 4], [9, 6, 7, 1, 0]], [[4, 8, 1, 9, 2], [3, 1, 7, 5, 8]]])\n",
    "# 2 lists -    list 1                             list 2\n",
    "#              0  1  2  3  4    0  1  2  3  4       0  1  2  3  4     0  1  2  3  4\n",
    "\n",
    "print(x[0])\n",
    "print(x[1])\n",
    "print(x[1][0][4])"
   ]
  },
  {
   "cell_type": "code",
   "execution_count": 22,
   "metadata": {},
   "outputs": [
    {
     "name": "stdout",
     "output_type": "stream",
     "text": [
      "[[[[[5 8 3 6 4]]]]]\n",
      "(1, 1, 1, 1, 5)\n",
      "\n",
      "[[[[5 8 3 6 4]]]]\n",
      "[[[5 8 3 6 4]]]\n",
      "[[5 8 3 6 4]]\n",
      "[5 8 3 6 4]\n",
      "8\n"
     ]
    }
   ],
   "source": [
    "x = np.array([[[[[5, 8, 3, 6, 4]]]]])\n",
    "print(x)\n",
    "print(x.shape)\n",
    "\n",
    "print()\n",
    "print(x[0])\n",
    "print(x[0][0])\n",
    "print(x[0][0][0])\n",
    "print(x[0][0][0][0])\n",
    "print(x[0][0][0][0][1])"
   ]
  }
 ],
 "metadata": {
  "kernelspec": {
   "display_name": "base",
   "language": "python",
   "name": "python3"
  },
  "language_info": {
   "codemirror_mode": {
    "name": "ipython",
    "version": 3
   },
   "file_extension": ".py",
   "mimetype": "text/x-python",
   "name": "python",
   "nbconvert_exporter": "python",
   "pygments_lexer": "ipython3",
   "version": "3.9.12"
  }
 },
 "nbformat": 4,
 "nbformat_minor": 2
}
