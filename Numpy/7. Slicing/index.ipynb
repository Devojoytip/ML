{
 "cells": [
  {
   "cell_type": "code",
   "execution_count": 1,
   "metadata": {},
   "outputs": [],
   "source": [
    "import numpy as np"
   ]
  },
  {
   "cell_type": "code",
   "execution_count": 6,
   "metadata": {},
   "outputs": [
    {
     "name": "stdout",
     "output_type": "stream",
     "text": [
      "[5 8 3 6 9 1 7]\n",
      "[5 8 3 6 9 1 7]\n",
      "[5 8 3 6 9]\n",
      "[3 6 9]\n",
      "[6 9 1 7]\n"
     ]
    }
   ],
   "source": [
    "x = np.array([5, 8, 3, 6, 9, 1, 7])\n",
    "#             0  1  2  3  4  5  6\n",
    "\n",
    "print(x)\n",
    "print(x[:])     # 0  1  2  3  4  5  6\n",
    "print(x[:5])    # 0  1  2  3  4\n",
    "print(x[2:5])   # 2  3  4\n",
    "print(x[3:])    # 3  4  5  6"
   ]
  },
  {
   "cell_type": "code",
   "execution_count": 7,
   "metadata": {},
   "outputs": [
    {
     "name": "stdout",
     "output_type": "stream",
     "text": [
      "[[5 8 3 6 4]\n",
      " [9 6 7 1 0]]\n",
      "[8 3 6]\n"
     ]
    }
   ],
   "source": [
    "x = np.array([[5, 8, 3, 6, 4], [9, 6, 7, 1, 0]])\n",
    "# 2 lists -    list 1           list 2\n",
    "#              0  1  2  3  4    0  1  2  3  4\n",
    "\n",
    "print(x)\n",
    "print(x[0][1:4])"
   ]
  }
 ],
 "metadata": {
  "kernelspec": {
   "display_name": "base",
   "language": "python",
   "name": "python3"
  },
  "language_info": {
   "codemirror_mode": {
    "name": "ipython",
    "version": 3
   },
   "file_extension": ".py",
   "mimetype": "text/x-python",
   "name": "python",
   "nbconvert_exporter": "python",
   "pygments_lexer": "ipython3",
   "version": "3.9.12"
  }
 },
 "nbformat": 4,
 "nbformat_minor": 2
}
