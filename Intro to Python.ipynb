{
 "cells": [
  {
   "cell_type": "markdown",
   "id": "b3efea2d",
   "metadata": {},
   "source": [
    "## Python for ML"
   ]
  },
  {
   "cell_type": "code",
   "execution_count": 3,
   "id": "9e83e47e",
   "metadata": {},
   "outputs": [
    {
     "name": "stdout",
     "output_type": "stream",
     "text": [
      "10 20\n",
      "20\n"
     ]
    }
   ],
   "source": [
    "# print fn\n",
    "a=10\n",
    "b=20\n",
    "print(a,end=\" \")\n",
    "print(b)\n",
    "print(b)"
   ]
  },
  {
   "cell_type": "code",
   "execution_count": 5,
   "id": "34493c06",
   "metadata": {},
   "outputs": [
    {
     "name": "stdout",
     "output_type": "stream",
     "text": [
      "10\n",
      "20\n"
     ]
    },
    {
     "data": {
      "text/plain": [
       "20"
      ]
     },
     "execution_count": 5,
     "metadata": {},
     "output_type": "execute_result"
    }
   ],
   "source": [
    "# last line is output\n",
    "a=10\n",
    "b=20\n",
    "print(a)\n",
    "print(b)\n",
    "a\n",
    "b"
   ]
  },
  {
   "cell_type": "code",
   "execution_count": 11,
   "id": "b6299b44",
   "metadata": {},
   "outputs": [
    {
     "name": "stdout",
     "output_type": "stream",
     "text": [
      "10\n",
      "<class 'int'>\n",
      "c\n",
      "<class 'str'>\n",
      "python\n",
      "<class 'str'>\n",
      "(2+3j)\n",
      "<class 'complex'>\n"
     ]
    }
   ],
   "source": [
    "a=10\n",
    "print(a)\n",
    "print(type(a))\n",
    "a='c'\n",
    "print(a)\n",
    "print(type(a))\n",
    "a=\"python\"\n",
    "print(a)\n",
    "print(type(a))\n",
    "a=2+3j\n",
    "print(a)\n",
    "print(type(a))"
   ]
  },
  {
   "cell_type": "code",
   "execution_count": 19,
   "id": "7dee3465",
   "metadata": {},
   "outputs": [
    {
     "name": "stdout",
     "output_type": "stream",
     "text": [
      "50\n",
      "30\n",
      "400\n",
      "4.0\n",
      "13.333333333333334\n",
      "13\n",
      "1\n",
      "81\n"
     ]
    }
   ],
   "source": [
    "print(a+10)\n",
    "print(a-10)\n",
    "print(a*10)\n",
    "print(a/10)\n",
    "a=40\n",
    "b=3\n",
    "print(a/b)\n",
    "print(a//b)\n",
    "print(a%b)\n",
    "print(9**2)"
   ]
  },
  {
   "cell_type": "code",
   "execution_count": 15,
   "id": "376daad1",
   "metadata": {},
   "outputs": [
    {
     "name": "stdout",
     "output_type": "stream",
     "text": [
      "hello world\n",
      "<class 'str'>\n",
      "Python3\n",
      "7\n",
      "python3\n",
      "PYTHON3\n"
     ]
    }
   ],
   "source": [
    "# there is no char datatype\n",
    "# Strings are immutable ie we can't change a part/element of string but we can change the entire string\n",
    "a='hello world'\n",
    "print(a)\n",
    "print(type(a))\n",
    "# a[0]='c' gives error as Strings are immutable\n",
    "a=\"Python3\"\n",
    "print(a)\n",
    "print(len(a))\n",
    "print(a.lower())\n",
    "print(a.upper())"
   ]
  },
  {
   "cell_type": "code",
   "execution_count": 30,
   "id": "126062ac",
   "metadata": {},
   "outputs": [
    {
     "name": "stdout",
     "output_type": "stream",
     "text": [
      "25\n",
      "25\n",
      "<class 'str'>\n",
      "5\n",
      "5\n",
      "<class 'int'>\n"
     ]
    }
   ],
   "source": [
    "# input() returns str\n",
    "a=input()\n",
    "print(a)\n",
    "print(type(a))\n",
    "a=int(input())\n",
    "print(a)\n",
    "print(type(a))"
   ]
  },
  {
   "cell_type": "code",
   "execution_count": 32,
   "id": "8f4b09fb",
   "metadata": {},
   "outputs": [
    {
     "name": "stdout",
     "output_type": "stream",
     "text": [
      "P\n",
      "3\n",
      "n\n"
     ]
    }
   ],
   "source": [
    "# negative indexing\n",
    "a=\"Python3\"\n",
    "print(a[0])\n",
    "print(a[-1]) # last index of string , -ve index start from end \n",
    "print(a[-2])"
   ]
  },
  {
   "cell_type": "code",
   "execution_count": 6,
   "id": "09725fd7",
   "metadata": {},
   "outputs": [
    {
     "name": "stdout",
     "output_type": "stream",
     "text": [
      "Pyt\n",
      "Python3\n",
      "<class 'str'>\n",
      "Pytho\n",
      "thon3\n",
      "Python3\n",
      "3\n",
      "hon3\n"
     ]
    }
   ],
   "source": [
    "# slicing [s:e] prints the string starting from s to e-1\n",
    "a='Python3'\n",
    "print(a[0:3])\n",
    "b=a[0:]\n",
    "print(b)\n",
    "print(type(b))\n",
    "print(a[:5])\n",
    "print(a[2:])\n",
    "print(a[:])\n",
    "print(a[-1:]) # printing only -1 as it gets incremented\n",
    "print(a[-4:]) # printing -4 -3 -2 -1 th elements"
   ]
  },
  {
   "cell_type": "code",
   "execution_count": 24,
   "id": "c97262ac",
   "metadata": {},
   "outputs": [
    {
     "name": "stdout",
     "output_type": "stream",
     "text": [
      "(1, 2, 3)\n",
      "<class 'tuple'>\n",
      "1\n",
      "(1, 'hello', 2.5, True, [5, 9, 60])\n",
      "[5, 9, 60]\n",
      "5\n",
      "(1, 'hello', 2.5)\n",
      "[5, 9, 60]\n",
      "(1, 'hello', 2.5, True, [5, 9, 60], 'abc', 100)\n",
      "(1, 'hello', 2.5, True, [5, 9, 60], 'abc', 100, 1, 'hello', 2.5, True, [5, 9, 60], 'abc', 100)\n",
      "True\n",
      "True\n",
      "False\n"
     ]
    }
   ],
   "source": [
    "# Tuples\n",
    "# Like Strings, Tuples are also immutable\n",
    "t=(1,2,3)\n",
    "print(t)\n",
    "print(type(t))\n",
    "print(t[0])\n",
    "t=(1,'hello',2.5,True,[5,9,60])\n",
    "print(t)\n",
    "print(t[4])\n",
    "print(t[4][0])\n",
    "\n",
    "# slicing in tuples \n",
    "print(t[0:3])\n",
    "print(t[-1])\n",
    "\n",
    "#operations in tuples\n",
    "k=('abc',100)\n",
    "t=t+k\n",
    "print(t)\n",
    "print(t*2)\n",
    "print(1 in t)\n",
    "print('abc' in t)\n",
    "print(False in t)"
   ]
  },
  {
   "cell_type": "code",
   "execution_count": 2,
   "id": "89fd2531",
   "metadata": {},
   "outputs": [
    {
     "name": "stdout",
     "output_type": "stream",
     "text": [
      "False\n",
      "True\n",
      "False\n",
      "True\n"
     ]
    }
   ],
   "source": [
    "# Boolean\n",
    "a,b=10,20\n",
    "print(a>b)\n",
    "print(a<b)\n",
    "temp=a>b\n",
    "print(temp)\n",
    "\n",
    "c=100\n",
    "print(c>a and c>b)"
   ]
  },
  {
   "cell_type": "code",
   "execution_count": 1,
   "id": "f06b1f18",
   "metadata": {},
   "outputs": [
    {
     "name": "stdout",
     "output_type": "stream",
     "text": [
      "both are equal\n"
     ]
    }
   ],
   "source": [
    "# indentation is compulsory and brackets are optional\n",
    "a,b=100,100\n",
    "if(a>b):\n",
    "    print('a is bigger')\n",
    "elif(a<b):\n",
    "    print('b is bigger')\n",
    "else:\n",
    "    print('both are equal')"
   ]
  },
  {
   "cell_type": "code",
   "execution_count": 2,
   "id": "af690f65",
   "metadata": {},
   "outputs": [
    {
     "name": "stdout",
     "output_type": "stream",
     "text": [
      "1  \n",
      "2  \n",
      "3  \n",
      "4  \n",
      "5  \n",
      "6  \n",
      "7  \n",
      "8  \n",
      "9  \n",
      "10  \n"
     ]
    }
   ],
   "source": [
    "a=1\n",
    "while(a<=10):\n",
    "    print(a,' ')\n",
    "    a=a+1\n"
   ]
  },
  {
   "cell_type": "code",
   "execution_count": 6,
   "id": "d3eee6cf",
   "metadata": {},
   "outputs": [
    {
     "name": "stdout",
     "output_type": "stream",
     "text": [
      "0\n",
      "1\n",
      "2\n",
      "3\n",
      "4\n",
      "5\n",
      "6\n",
      "7\n",
      "8\n",
      "9\n",
      "5\n",
      "6\n",
      "7\n",
      "8\n",
      "9\n",
      "5\n",
      "10\n",
      "15\n",
      "20\n",
      "25\n",
      "30\n"
     ]
    }
   ],
   "source": [
    "# FOR LOOP\n",
    "# default start=0 & jump=1 & end is not included in range start to end-1\n",
    "for i in range(10):\n",
    "    print(i)\n",
    "for i in range(5,10):\n",
    "    print(i)\n",
    "for i in range(5,31,5):\n",
    "    print(i)\n"
   ]
  },
  {
   "cell_type": "code",
   "execution_count": 8,
   "id": "373eadc5",
   "metadata": {},
   "outputs": [
    {
     "name": "stdout",
     "output_type": "stream",
     "text": [
      "7\n",
      "Not prime\n"
     ]
    }
   ],
   "source": [
    "n=int(input())\n",
    "for i in range(2,n):\n",
    "    if(n%i==0):\n",
    "        isPrime=False\n",
    "        break\n",
    "if(isPrime):\n",
    "    print('No is prime')\n",
    "else:\n",
    "    print('Not prime')"
   ]
  },
  {
   "cell_type": "code",
   "execution_count": 11,
   "id": "cd223004",
   "metadata": {},
   "outputs": [
    {
     "name": "stdout",
     "output_type": "stream",
     "text": [
      "1\n",
      "0.9\n",
      "Hello\n",
      "[1, 2, 3]\n",
      "1\n",
      "2\n",
      "3\n"
     ]
    }
   ],
   "source": [
    "# Fast iterations\n",
    "t=(1,0.9,\"Hello\",[1,2,3])\n",
    "for i in t:\n",
    "    print(i)\n",
    "for i in t[3]:\n",
    "    print(i)\n"
   ]
  },
  {
   "cell_type": "code",
   "execution_count": null,
   "id": "f60091b2",
   "metadata": {},
   "outputs": [],
   "source": [
    "s=\"abc def\"\n",
    "s=s.split(\" \")\n",
    "for i in s:\n",
    "    for ch in i:\n",
    "        "
   ]
  },
  {
   "cell_type": "code",
   "execution_count": 1,
   "id": "f660abb6",
   "metadata": {},
   "outputs": [
    {
     "name": "stdout",
     "output_type": "stream",
     "text": [
      "55\n",
      "135\n",
      "20\n",
      "60\n",
      "45\n"
     ]
    }
   ],
   "source": [
    "# Function & default parameters\n",
    "def add(a=10,b=20,c=30):\n",
    "    return a+b+c;\n",
    "print(add(5))\n",
    "print(add(5,100))\n",
    "print(add(5,12,3))\n",
    "print(add())\n",
    "print(add(b=5))"
   ]
  },
  {
   "cell_type": "code",
   "execution_count": 5,
   "id": "03300eed",
   "metadata": {},
   "outputs": [
    {
     "name": "stdout",
     "output_type": "stream",
     "text": [
      "()\n",
      "<class 'tuple'>\n",
      "(3, 4, 5, 6, 7)\n",
      "<class 'tuple'>\n"
     ]
    },
    {
     "data": {
      "text/plain": [
       "28"
      ]
     },
     "execution_count": 5,
     "metadata": {},
     "output_type": "execute_result"
    }
   ],
   "source": [
    "# variable no of inputs to a fn\n",
    "# more is a tuple\n",
    "def sum_var(a,b,*more):\n",
    "    print(more)\n",
    "    print(type(more))\n",
    "    sum=0\n",
    "    for i in more:\n",
    "        sum+=i\n",
    "    return a+b+sum\n",
    "sum_var(10,5)\n",
    "sum_var(1,2,3,4,5,6,7)"
   ]
  },
  {
   "cell_type": "code",
   "execution_count": 12,
   "id": "e6e2cab0",
   "metadata": {},
   "outputs": [
    {
     "name": "stdout",
     "output_type": "stream",
     "text": [
      "(5, 10, 15, -5)\n",
      "<class 'tuple'>\n",
      "5\n",
      "10\n",
      "15\n",
      "-5\n",
      "(50, 50, 100, 0)\n",
      "<class 'tuple'>\n",
      "100\n"
     ]
    }
   ],
   "source": [
    "# variable no of outputs to a fn\n",
    "def dummyfn(a,b):\n",
    "    return a,b,a+b,a-b\n",
    "print(dummyfn(5,10)) # return type is tuple\n",
    "print(type(dummyfn(5,10)))\n",
    "a,b,sum,diff=dummyfn(5,10)\n",
    "print(a)\n",
    "print(b)\n",
    "print(sum)\n",
    "print(diff)\n",
    "x=dummyfn(50,50)\n",
    "print(x)\n",
    "print(type(x))\n",
    "sum=dummyfn(50,50)[2]\n",
    "print(sum)"
   ]
  },
  {
   "cell_type": "code",
   "execution_count": 2,
   "id": "20fe9d7b",
   "metadata": {},
   "outputs": [
    {
     "name": "stdout",
     "output_type": "stream",
     "text": [
      "[1, 2, 3, 4]\n",
      "<class 'list'>\n",
      "[]\n",
      "[]\n",
      "['H', 'E', 'L', 'L', 'O']\n",
      "[6, 40, 10, 8]\n",
      "[]\n",
      "[0, 0, 0, 0, 0, 0, 0, 0, 0, 0]\n",
      "[0, 1, 2, 3, 4, 5, 6, 7, 8, 9]\n",
      "[0, 1, 4, 9, 16, 25, 36, 49, 64, 81]\n",
      "[1, (5+6j), 'hello', 2.55]\n",
      "1\n",
      "(5+6j)\n",
      "hello\n",
      "2.55\n",
      "(5+6j)\n"
     ]
    }
   ],
   "source": [
    "#Lists - they are mutable (can be changed)\n",
    "a=[1,2,3,4]\n",
    "print(a)\n",
    "print(type(a))\n",
    "\n",
    "a=list() #empty list\n",
    "print(a)\n",
    "\n",
    "a=[] #empty list\n",
    "print(a)\n",
    "\n",
    "a=list(\"HELLO\") #empty list\n",
    "print(a)\n",
    "\n",
    "b=[6,40,10,8]\n",
    "a=list(b)\n",
    "print(a)\n",
    "\n",
    "a=list()\n",
    "print(a)\n",
    "\n",
    "a=[0 for i in range(10)]\n",
    "print(a)\n",
    "a=[i for i in range(10)]\n",
    "print(a)\n",
    "a=[i*i for i in range(10)]\n",
    "print(a)\n",
    "\n",
    "a=[1,5+6j,'hello',2.55]\n",
    "print(a)\n",
    "for i in a:\n",
    "    print(i)\n",
    "print(a[1])"
   ]
  },
  {
   "cell_type": "code",
   "execution_count": 1,
   "id": "a573fdad",
   "metadata": {},
   "outputs": [
    {
     "name": "stdout",
     "output_type": "stream",
     "text": [
      " 1 2 3 4 5 \n",
      "[1, 2, 3, 4, 5]\n"
     ]
    }
   ],
   "source": [
    "# taking string input & convert to int\n",
    "\n",
    "# input().strip() - remove extra spaces b4 & after string\n",
    "# .split(' ') - splits the string at ' ' & returns a list of the elements\n",
    "# int(i) - converts each ele to int\n",
    "\n",
    "l=[int(i) for i in input().strip().split(' ')]\n",
    "print(l)"
   ]
  },
  {
   "cell_type": "code",
   "execution_count": 5,
   "id": "c4e96745",
   "metadata": {},
   "outputs": [
    {
     "name": "stdout",
     "output_type": "stream",
     "text": [
      "[1, 2.4, 'hell', 'py']\n",
      "[1, 100, 2.4, 'hell', 'py']\n",
      "[1, 100, 2.4, 'hell', 'py', 8, 'ex', 0.25]\n"
     ]
    }
   ],
   "source": [
    "# inserting elements\n",
    "l=[1,2.4,'hell']\n",
    "l.append('py') # inserts at end\n",
    "print(l)\n",
    "\n",
    "l.insert(1,100)\n",
    "print(l)\n",
    "\n",
    "l.extend([8,'ex',0.25])\n",
    "print(l)"
   ]
  },
  {
   "cell_type": "code",
   "execution_count": 21,
   "id": "c336754e",
   "metadata": {},
   "outputs": [
    {
     "name": "stdout",
     "output_type": "stream",
     "text": [
      "100\n",
      "[2, 4, 5, 5, 8, 100, 100]\n",
      "[2, 4, 5, 5, 8, 100, 100]\n",
      "[2, 4, 5, 5, 8, 100, 100, 100]\n",
      "[2, 5, 5, 8, 100, 100, 100]\n",
      "[2, 5, 100, 100, 100]\n"
     ]
    }
   ],
   "source": [
    "# deleting ele\n",
    "#x=l.pop() # without arg deletes last ele\n",
    "print(x)\n",
    "print(l)\n",
    "\n",
    "#l.pop(2) # delets at index\n",
    "print(l)\n",
    "\n",
    "l.append(100)\n",
    "#l.remove(100) # removes 1st occurences of 100\n",
    "print(l)\n",
    "\n",
    "del l[1] # deletes ele at idx 2\n",
    "print(l)\n",
    "del l[2:4] # deletes ele from idx start to end-1\n",
    "print(l)"
   ]
  },
  {
   "cell_type": "code",
   "execution_count": 12,
   "id": "9c7b8cf6",
   "metadata": {},
   "outputs": [
    {
     "name": "stdout",
     "output_type": "stream",
     "text": [
      "['hell', 8, 100, 100, 'hell', 8, 100, 100]\n",
      "['hell', 8, 100, 100]\n",
      "['hell', 8, 100, 100, 'hell', 8, 100, 100]\n"
     ]
    }
   ],
   "source": [
    "# operations\n",
    "print(l+l) # we only performed l+l but not l=l+l\n",
    "print(l)\n",
    "l=l+l\n",
    "print(l)"
   ]
  },
  {
   "cell_type": "code",
   "execution_count": 2,
   "id": "aee086f3",
   "metadata": {},
   "outputs": [
    {
     "name": "stdout",
     "output_type": "stream",
     "text": [
      "[2, 4, 5, 5, 8, 100, 100, 100]\n",
      "3\n",
      "0\n",
      "5\n",
      "False\n",
      "[5, 5]\n",
      "[2, 4, 5, 5, 8, 100, 100, 100]\n"
     ]
    }
   ],
   "source": [
    "l=[4,5,8,100,5,100,2,100]\n",
    "l.sort()\n",
    "print(l)\n",
    "print(l.count(100)) # count of ele\n",
    "print(l.count(99))\n",
    "print(l.index(100)) # returns pos of 1st occur\n",
    "\n",
    "print(99 in l)\n",
    "print(l[2:4])\n",
    "print(l)"
   ]
  },
  {
   "cell_type": "code",
   "execution_count": 8,
   "id": "9503ed9c",
   "metadata": {},
   "outputs": [
    {
     "name": "stdout",
     "output_type": "stream",
     "text": [
      "[0, 2, 5, 6, 8, 9, 10]\n"
     ]
    }
   ],
   "source": [
    "#Bubble sort\n",
    "l=[5,8,10,2,0,6,9]\n",
    "n=len(l)\n",
    "\n",
    "for i in range(n-1):\n",
    "    for j in range(n-1):\n",
    "        if(l[j]>l[j+1]):\n",
    "            t=l[j]\n",
    "            l[j]=l[j+1]\n",
    "            l[j+1]=t\n",
    "        \n",
    "\n",
    "print(l)"
   ]
  },
  {
   "cell_type": "code",
   "execution_count": 8,
   "id": "6ed8641b",
   "metadata": {},
   "outputs": [
    {
     "name": "stdout",
     "output_type": "stream",
     "text": [
      "{}\n",
      "{'one': 2, 1: 'one', 3.5: 3}\n",
      "{'one': 2, 1: 'one', 3.5: 3, (1, 2, 3): 'tuple'}\n"
     ]
    }
   ],
   "source": [
    "# Dictionaries\n",
    "d={}\n",
    "print(d)\n",
    "d['one']=2\n",
    "d[1]='one'\n",
    "d[3.5]=3\n",
    "print(d)\n",
    "d={'one': 2, 1: 'one', 3.5: 3, (1,2,3):'tuple'}\n",
    "print(d)\n",
    "# keys are immutable ie a list can't be a key"
   ]
  },
  {
   "cell_type": "code",
   "execution_count": 3,
   "id": "214a8b5c",
   "metadata": {},
   "outputs": [
    {
     "name": "stdout",
     "output_type": "stream",
     "text": [
      "one 2\n",
      "1 one\n",
      "3.5 3\n",
      "(1, 2, 3) tuple\n"
     ]
    }
   ],
   "source": [
    "for i in d:\n",
    "    print(i,d[i])"
   ]
  },
  {
   "cell_type": "code",
   "execution_count": 9,
   "id": "ef13ca2c",
   "metadata": {},
   "outputs": [
    {
     "name": "stdout",
     "output_type": "stream",
     "text": [
      "{'one': 2, 3.5: 3, (1, 2, 3): 'tuple'}\n"
     ]
    }
   ],
   "source": [
    "# deleting ele\n",
    "del d[1]\n",
    "print(d)"
   ]
  },
  {
   "cell_type": "code",
   "execution_count": 15,
   "id": "0f518994",
   "metadata": {},
   "outputs": [
    {
     "name": "stdout",
     "output_type": "stream",
     "text": [
      "True\n",
      "4\n",
      "dict_values([2, 'one', 3, 'tuple'])\n",
      "dict_keys(['one', 1, 3.5, (1, 2, 3)])\n",
      "True\n",
      "False\n"
     ]
    }
   ],
   "source": [
    "# operations in Dictionaries\n",
    "d1={'one': 2, 1: 'one', 3.5: 3, (1,2,3):'tuple'}\n",
    "d2={1: 'one','one': 2,(1,2,3):'tuple',3.5: 3,}\n",
    "\n",
    "print(d1==d2)\n",
    "# print(d1+d2) not supported\n",
    "\n",
    "print(len(d1))\n",
    "\n",
    "print(d1.values())\n",
    "print(d1.keys())\n",
    "\n",
    "# check if key present\n",
    "print(1 in d1)\n",
    "print('abc' in d1)"
   ]
  },
  {
   "cell_type": "code",
   "execution_count": 19,
   "id": "37b0886c",
   "metadata": {},
   "outputs": [
    {
     "name": "stdout",
     "output_type": "stream",
     "text": [
      "[[1, 'two', 3], [4, 5.5, 6], ['a', 'b', 'c']]\n",
      "[[0, 1, 2], [1, 2, 3], [2, 3, 4], [3, 4, 5], [4, 5, 6]]\n",
      "[[0], [2, 3], [4, 5, 6], [6, 7, 8, 9], [8, 9, 10, 11, 12]]\n"
     ]
    }
   ],
   "source": [
    "# 2D Lists\n",
    "lt=[[1,'two',3],[4,5.5,6],['a','b','c']]\n",
    "print(lt)\n",
    "\n",
    "lt=[[i,i+1,i+2] for i in range(5)]\n",
    "print(lt)\n",
    "\n",
    "lt=[[j+i for j in range(i,i*2+1)] for i in range(5)]\n",
    "print(lt)"
   ]
  },
  {
   "cell_type": "code",
   "execution_count": 5,
   "id": "b5a75186",
   "metadata": {},
   "outputs": [
    {
     "name": "stdout",
     "output_type": "stream",
     "text": [
      "Enter no of rows : 3\n",
      "Enter no of cols : 3\n",
      "Enter the elements : 7 8 0 1 4 6 5 9 3\n",
      "[7, 8, 0, 1, 4, 6, 5, 9, 3]\n",
      "[[7, 8, 0], [1, 4, 6], [5, 9, 3]]\n"
     ]
    }
   ],
   "source": [
    "rows=int(input(\"Enter no of rows : \"))\n",
    "cols=int(input(\"Enter no of cols : \"))\n",
    "l=[int(i) for i in input(\"Enter the elements : \").strip().split(' ')]\n",
    "print(l)\n",
    "\n",
    "res=[]\n",
    "for i in range(rows):\n",
    "    res.append([])\n",
    "    for j in range(cols):\n",
    "        res[i].append(l[i*cols+j])\n",
    "\n",
    "# OR :\n",
    "res=[[l[i*cols+j] for j in range(cols)] for i in range(rows)]\n",
    "print(res)"
   ]
  },
  {
   "cell_type": "code",
   "execution_count": 6,
   "id": "68878e32",
   "metadata": {},
   "outputs": [
    {
     "name": "stdout",
     "output_type": "stream",
     "text": [
      "7 1 5 9 4 8 0 6 3 "
     ]
    }
   ],
   "source": [
    "# Spiral Print\n",
    "rows=len(res)\n",
    "cols=len(res[0])\n",
    "\n",
    "for i in range(cols):\n",
    "    if(i%2==0):\n",
    "        for j in range(rows):\n",
    "            print(res[j][i],end=\" \")\n",
    "    else:\n",
    "        for j in range(rows-1,-1,-1):\n",
    "            print(res[j][i],end=\" \")\n"
   ]
  },
  {
   "cell_type": "code",
   "execution_count": null,
   "id": "12ec6151",
   "metadata": {},
   "outputs": [],
   "source": []
  }
 ],
 "metadata": {
  "kernelspec": {
   "display_name": "base",
   "language": "python",
   "name": "python3"
  },
  "language_info": {
   "codemirror_mode": {
    "name": "ipython",
    "version": 3
   },
   "file_extension": ".py",
   "mimetype": "text/x-python",
   "name": "python",
   "nbconvert_exporter": "python",
   "pygments_lexer": "ipython3",
   "version": "3.9.12"
  },
  "vscode": {
   "interpreter": {
    "hash": "ad2bdc8ecc057115af97d19610ffacc2b4e99fae6737bb82f5d7fb13d2f2c186"
   }
  }
 },
 "nbformat": 4,
 "nbformat_minor": 5
}
