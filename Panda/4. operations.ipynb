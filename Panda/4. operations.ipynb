{
 "cells": [
  {
   "cell_type": "code",
   "execution_count": 1,
   "metadata": {},
   "outputs": [],
   "source": [
    "import pandas as pd"
   ]
  },
  {
   "cell_type": "markdown",
   "metadata": {},
   "source": [
    "# Arithmetic Operations"
   ]
  },
  {
   "cell_type": "code",
   "execution_count": 7,
   "metadata": {},
   "outputs": [
    {
     "name": "stdout",
     "output_type": "stream",
     "text": [
      "   Cat 1  Cat 2\n",
      "0     45     38\n",
      "1     20     44\n",
      "2     33     40\n",
      "3     50     30\n",
      "4     29     48\n",
      "   Cat 1  Cat 2  Average  Above 40\n",
      "0     45     38     41.5      True\n",
      "1     20     44     32.0     False\n",
      "2     33     40     36.5     False\n",
      "3     50     30     40.0      True\n",
      "4     29     48     38.5     False\n"
     ]
    }
   ],
   "source": [
    "data = {\"Cat 1\": [45, 20, 33, 50, 29], \"Cat 2\": [38, 44, 40, 30, 48]}\n",
    "df = pd.DataFrame(data)\n",
    "print(df)\n",
    "df[\"Average\"] = (df[\"Cat 1\"]+df[\"Cat 2\"])/2\n",
    "df[\"Above 40\"] = df[\"Average\"] >= 40.0\n",
    "print(df)"
   ]
  },
  {
   "cell_type": "markdown",
   "metadata": {},
   "source": [
    "# Insert Operations"
   ]
  },
  {
   "cell_type": "code",
   "execution_count": 14,
   "metadata": {},
   "outputs": [
    {
     "name": "stdout",
     "output_type": "stream",
     "text": [
      "   DA-3  DA-2  DA-1  Cat 1  Cat 2  Average  Above 40\n",
      "0   NaN   NaN     8     45     38     41.5      True\n",
      "1   NaN   NaN    10     20     44     32.0     False\n",
      "2   7.0   7.0     7     33     40     36.5     False\n",
      "3   5.0   5.0     5     50     30     40.0      True\n",
      "4   9.0   9.0     9     29     48     38.5     False\n"
     ]
    }
   ],
   "source": [
    "df.insert(0, \"DA-1\", [8, 10, 7, 5, 9])  # insert at pos 0\n",
    "print(df)\n",
    "df.insert(0, \"DA-2\", df[\"DA-1\"][2:])\n",
    "print(df)\n",
    "df.insert(0, \"DA-3\", (df[\"DA-1\"]+df[\"DA-2\"])/2)\n",
    "print(df)"
   ]
  },
  {
   "cell_type": "markdown",
   "metadata": {},
   "source": [
    "# Delete Operations"
   ]
  },
  {
   "cell_type": "code",
   "execution_count": 15,
   "metadata": {},
   "outputs": [
    {
     "name": "stdout",
     "output_type": "stream",
     "text": [
      "0    NaN\n",
      "1    NaN\n",
      "2    7.0\n",
      "3    5.0\n",
      "4    9.0\n",
      "Name: DA-3, dtype: float64\n",
      "   DA-2  DA-1  Cat 1  Cat 2  Average  Above 40\n",
      "0   NaN     8     45     38     41.5      True\n",
      "1   NaN    10     20     44     32.0     False\n",
      "2   7.0     7     33     40     36.5     False\n",
      "3   5.0     5     50     30     40.0      True\n",
      "4   9.0     9     29     48     38.5     False\n"
     ]
    }
   ],
   "source": [
    "popped = df.pop(\"DA-3\")\n",
    "print(popped)\n",
    "print(df)"
   ]
  }
 ],
 "metadata": {
  "kernelspec": {
   "display_name": "base",
   "language": "python",
   "name": "python3"
  },
  "language_info": {
   "codemirror_mode": {
    "name": "ipython",
    "version": 3
   },
   "file_extension": ".py",
   "mimetype": "text/x-python",
   "name": "python",
   "nbconvert_exporter": "python",
   "pygments_lexer": "ipython3",
   "version": "3.9.12"
  }
 },
 "nbformat": 4,
 "nbformat_minor": 2
}
