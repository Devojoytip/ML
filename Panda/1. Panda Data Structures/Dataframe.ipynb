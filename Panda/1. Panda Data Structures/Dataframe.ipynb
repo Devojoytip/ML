{
 "cells": [
  {
   "cell_type": "code",
   "execution_count": 1,
   "metadata": {},
   "outputs": [],
   "source": [
    "import pandas as pd"
   ]
  },
  {
   "cell_type": "code",
   "execution_count": 2,
   "metadata": {},
   "outputs": [
    {
     "name": "stdout",
     "output_type": "stream",
     "text": [
      "    0\n",
      "0   3\n",
      "1   4\n",
      "2  10\n",
      "3   2\n",
      "4   8\n",
      "5   1\n",
      "6   6\n",
      "<class 'pandas.core.frame.DataFrame'>\n",
      "Index(['sid'], dtype='object')\n",
      "0     3\n",
      "1     4\n",
      "2    10\n",
      "3     2\n",
      "4     8\n",
      "5     1\n",
      "6     6\n",
      "Name: sid, dtype: int64\n",
      "8\n"
     ]
    }
   ],
   "source": [
    "x = [3, 4, 10, 2, 8, 1, 6]\n",
    "\n",
    "data = pd.DataFrame(x)\n",
    "print(data)\n",
    "\n",
    "data = pd.DataFrame(x, columns=[\"sid\"])\n",
    "print(type(data))\n",
    "print(data.columns)\n",
    "print(data.sid)\n",
    "print(data.sid[4])"
   ]
  },
  {
   "cell_type": "code",
   "execution_count": 10,
   "metadata": {},
   "outputs": [
    {
     "name": "stdout",
     "output_type": "stream",
     "text": [
      "  name  age   branch  4\n",
      "0  Jai   23      cse  1\n",
      "1  Ana   20  biotech  2\n",
      "  name\n",
      "0  Jai\n",
      "1  Ana\n",
      "Ana\n"
     ]
    }
   ],
   "source": [
    "dict = {\"name\": [\"Jai\", \"Ana\"], \"age\": [23, 20], \"branch\": [\"cse\", \"biotech\"], 4: [1, 2]}\n",
    "df = pd.DataFrame(dict)\n",
    "print(df)\n",
    "\n",
    "df = pd.DataFrame(dict, columns=[\"name\"])\n",
    "print(df)\n",
    "print(df[\"name\"][1])"
   ]
  },
  {
   "cell_type": "code",
   "execution_count": 15,
   "metadata": {},
   "outputs": [
    {
     "name": "stdout",
     "output_type": "stream",
     "text": [
      "   0  1  2  3  4\n",
      "0  3  2  4  6  9\n",
      "1  8  3  9  0  5\n"
     ]
    }
   ],
   "source": [
    "list=[[3,2,4,6,9],[8,3,9,0,5]]\n",
    "df = pd.DataFrame(list)\n",
    "print(df)"
   ]
  }
 ],
 "metadata": {
  "kernelspec": {
   "display_name": "base",
   "language": "python",
   "name": "python3"
  },
  "language_info": {
   "codemirror_mode": {
    "name": "ipython",
    "version": 3
   },
   "file_extension": ".py",
   "mimetype": "text/x-python",
   "name": "python",
   "nbconvert_exporter": "python",
   "pygments_lexer": "ipython3",
   "version": "3.9.12"
  }
 },
 "nbformat": 4,
 "nbformat_minor": 2
}
