{
 "cells": [
  {
   "cell_type": "code",
   "execution_count": 1,
   "metadata": {},
   "outputs": [],
   "source": [
    "import pandas as pd"
   ]
  },
  {
   "cell_type": "code",
   "execution_count": 12,
   "metadata": {},
   "outputs": [
    {
     "name": "stdout",
     "output_type": "stream",
     "text": [
      "    0\n",
      "0   3\n",
      "1   4\n",
      "2  10\n",
      "3   2\n",
      "4   8\n",
      "5   1\n",
      "6   6\n",
      "<class 'pandas.core.frame.DataFrame'>\n",
      "0     3\n",
      "1     4\n",
      "2    10\n",
      "3     2\n",
      "4     8\n",
      "5     1\n",
      "6     6\n",
      "Name: sid, dtype: int64\n",
      "8\n"
     ]
    }
   ],
   "source": [
    "x = [3, 4, 10, 2, 8, 1, 6]\n",
    "\n",
    "data = pd.DataFrame(x)\n",
    "print(data)\n",
    "\n",
    "data = pd.DataFrame(x, columns=[\"sid\"])\n",
    "print(type(data))\n",
    "print(data.sid)\n",
    "print(data.sid[4])"
   ]
  },
  {
   "cell_type": "code",
   "execution_count": null,
   "metadata": {},
   "outputs": [],
   "source": []
  }
 ],
 "metadata": {
  "kernelspec": {
   "display_name": "base",
   "language": "python",
   "name": "python3"
  },
  "language_info": {
   "codemirror_mode": {
    "name": "ipython",
    "version": 3
   },
   "file_extension": ".py",
   "mimetype": "text/x-python",
   "name": "python",
   "nbconvert_exporter": "python",
   "pygments_lexer": "ipython3",
   "version": "3.9.12"
  }
 },
 "nbformat": 4,
 "nbformat_minor": 2
}
