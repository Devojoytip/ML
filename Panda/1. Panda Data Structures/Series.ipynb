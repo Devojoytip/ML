{
 "cells": [
  {
   "cell_type": "markdown",
   "metadata": {},
   "source": [
    "Series is a one-dimensional labeled array and capable of holding data of any type (integer, string, float, python objects, etc.)"
   ]
  },
  {
   "cell_type": "code",
   "execution_count": 1,
   "metadata": {},
   "outputs": [],
   "source": [
    "import pandas as pd"
   ]
  },
  {
   "cell_type": "code",
   "execution_count": 3,
   "metadata": {},
   "outputs": [
    {
     "name": "stdout",
     "output_type": "stream",
     "text": [
      "0     3\n",
      "1     4\n",
      "2    10\n",
      "3     2\n",
      "4     8\n",
      "5     1\n",
      "6     6\n",
      "Name: Dataset, dtype: int64\n",
      "<class 'pandas.core.series.Series'>\n",
      "4\n"
     ]
    }
   ],
   "source": [
    "x = [3, 4, 10, 2, 8, 1, 6]\n",
    "\n",
    "data = pd.Series(x, name=\"Dataset\")\n",
    "# name not mandatory\n",
    "\n",
    "print(data)\n",
    "print(type(data))\n",
    "print(data[1])"
   ]
  },
  {
   "cell_type": "code",
   "execution_count": 7,
   "metadata": {},
   "outputs": [
    {
     "name": "stdout",
     "output_type": "stream",
     "text": [
      "1     3\n",
      "2     4\n",
      "3    10\n",
      "4     2\n",
      "5     8\n",
      "6     1\n",
      "7     6\n",
      "dtype: int64\n"
     ]
    }
   ],
   "source": [
    "data = pd.Series(x, index=list(range(1, len(x)+1)))\n",
    "print(data)"
   ]
  },
  {
   "cell_type": "code",
   "execution_count": 8,
   "metadata": {},
   "outputs": [
    {
     "name": "stdout",
     "output_type": "stream",
     "text": [
      "1     20\n",
      "5     20\n",
      "9     20\n",
      "10    20\n",
      "dtype: int64\n"
     ]
    }
   ],
   "source": [
    "ele = 20\n",
    "data = pd.Series(ele, index=[1, 5, 9, 10])\n",
    "print(data)"
   ]
  },
  {
   "cell_type": "code",
   "execution_count": 9,
   "metadata": {},
   "outputs": [
    {
     "name": "stdout",
     "output_type": "stream",
     "text": [
      "students       [Hari, Rana, Jai]\n",
      "ranks       [5, 9, 1, 10, 6, 12]\n",
      "sem                       Winter\n",
      "dtype: object\n"
     ]
    }
   ],
   "source": [
    "dict = {\"students\": ['Hari', 'Rana', 'Jai'],\n",
    "        \"ranks\": [5, 9, 1, 10, 6, 12], \"sem\": 'Winter'}\n",
    "data = pd.Series(dict)\n",
    "print(data)"
   ]
  },
  {
   "cell_type": "markdown",
   "metadata": {},
   "source": [
    "# Setting indices"
   ]
  },
  {
   "cell_type": "code",
   "execution_count": 5,
   "metadata": {},
   "outputs": [
    {
     "name": "stdout",
     "output_type": "stream",
     "text": [
      "a     3\n",
      "s     4\n",
      "e    10\n",
      "k     2\n",
      "d     8\n",
      "c     1\n",
      "z     6\n",
      "dtype: int64\n"
     ]
    }
   ],
   "source": [
    "data = pd.Series(x, index=['a', 's', 'e', 'k', 'd', 'c', 'z'])\n",
    "print(data)"
   ]
  },
  {
   "cell_type": "markdown",
   "metadata": {},
   "source": [
    "# Setting datatype"
   ]
  },
  {
   "cell_type": "code",
   "execution_count": 6,
   "metadata": {},
   "outputs": [
    {
     "name": "stdout",
     "output_type": "stream",
     "text": [
      "0     3.0\n",
      "1     4.0\n",
      "2    10.0\n",
      "3     2.0\n",
      "4     8.0\n",
      "5     1.0\n",
      "6     6.0\n",
      "dtype: float64\n"
     ]
    }
   ],
   "source": [
    "data = pd.Series(x, dtype=\"float\")\n",
    "print(data)"
   ]
  }
 ],
 "metadata": {
  "kernelspec": {
   "display_name": "base",
   "language": "python",
   "name": "python3"
  },
  "language_info": {
   "codemirror_mode": {
    "name": "ipython",
    "version": 3
   },
   "file_extension": ".py",
   "mimetype": "text/x-python",
   "name": "python",
   "nbconvert_exporter": "python",
   "pygments_lexer": "ipython3",
   "version": "3.9.12"
  }
 },
 "nbformat": 4,
 "nbformat_minor": 2
}
